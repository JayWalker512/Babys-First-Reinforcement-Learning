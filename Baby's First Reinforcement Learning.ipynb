{
 "cells": [
  {
   "cell_type": "markdown",
   "metadata": {},
   "source": [
    "Baby's First Reinforcement Learning\n",
    "----------------------------------------------------\n",
    "\n",
    "In this notebook we will begin to explore the fundamentals of reinforcement learning. From Wikipedia:\n",
    "\n",
    "**Reinforcement learning (RL)** is an area of machine learning concerned with how software agents ought to take actions in an environment so as to maximize some notion of cumulative reward. (see: https://en.wikipedia.org/wiki/Reinforcement_learning)\n",
    "\n",
    "Reinforcement learning has seen numerous successes in recent years. Groups such as OpenAI and\n",
    "Google Deepmind have successfully trained agents to play Atari games 1 with super-human skill. More recently,\n",
    "groups have trained agents to play considerably more complex games like Dota II. In each of these cases, the AI\n",
    "agent is trained by allowing it to explore the environment, and discovering on it’s own which sequences of\n",
    "actions lead to maximization of the chosen reward.\n",
    "\n",
    "We will begin by exploring an old idea known as a **Markov Decision Process** (MDP). MDP's can be applied in reinforcement learning contexts, but as we will see they have limitations. If time allows, we will also explore **Deep Reinforcement Learning** which is a collection of newer techniques designed to overcome the limitations of MDP's by using **Neural Networks**."
   ]
  },
  {
   "cell_type": "code",
   "execution_count": 1,
   "metadata": {},
   "outputs": [],
   "source": [
    "#Step 1: Set up the environment such that we can view it, modify it, determine rewards\n",
    "\n",
    "#Step 2: Initialize trainable MDP algorithm\n",
    "\n",
    "#Step 3: Run trainable MDP algorithm on the environment from step 1. Observe reward/time curve."
   ]
  },
  {
   "cell_type": "code",
   "execution_count": null,
   "metadata": {},
   "outputs": [],
   "source": []
  }
 ],
 "metadata": {
  "kernelspec": {
   "display_name": "Python 3",
   "language": "python",
   "name": "python3"
  },
  "language_info": {
   "codemirror_mode": {
    "name": "ipython",
    "version": 3
   },
   "file_extension": ".py",
   "mimetype": "text/x-python",
   "name": "python",
   "nbconvert_exporter": "python",
   "pygments_lexer": "ipython3",
   "version": "3.7.1"
  }
 },
 "nbformat": 4,
 "nbformat_minor": 2
}
