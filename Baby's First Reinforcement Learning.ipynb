{
 "cells": [
  {
   "cell_type": "markdown",
   "metadata": {},
   "source": [
    "Baby's First Reinforcement Learning\n",
    "----------------------------------------------------\n",
    "\n",
    "In this notebook we will begin to explore the fundamentals of reinforcement learning. From Wikipedia:\n",
    "\n",
    "**Reinforcement learning (RL)** is an area of machine learning concerned with how software agents ought to take actions in an environment so as to maximize some notion of cumulative reward. (see: https://en.wikipedia.org/wiki/Reinforcement_learning)\n",
    "\n",
    "Reinforcement learning has seen numerous successes in recent years. Groups such as OpenAI and\n",
    "Google Deepmind have successfully trained agents to play Atari games 1 with super-human skill. More recently,\n",
    "groups have trained agents to play considerably more complex games like Dota II. In each of these cases, the AI\n",
    "agent is trained by allowing it to explore the environment, and discovering on it’s own which sequences of\n",
    "actions lead to maximization of the chosen reward.\n",
    "\n",
    "We will begin by exploring an old idea known as a **Markov Decision Process** (MDP). MDP's can be applied in reinforcement learning contexts, but as we will see they have limitations. If time allows, we will also explore **Deep Reinforcement Learning** which is a collection of newer techniques designed to overcome the limitations of MDP's by using **Neural Networks**."
   ]
  },
  {
   "cell_type": "code",
   "execution_count": 1,
   "metadata": {},
   "outputs": [
    {
     "name": "stdout",
     "output_type": "stream",
     "text": [
      "This is what our environment looks like. The Agent 'A' needs to learn to seek out the food/reward 'R'.\n",
      "----------\n",
      "|R       |  \n",
      "|        |  \n",
      "|        |  \n",
      "|        |  \n",
      "|    A   |  \n",
      "|        |  \n",
      "|        |  \n",
      "|        |  \n",
      "----------\n"
     ]
    }
   ],
   "source": [
    "from importlib import reload #allow us to reload custom modules any time we like with modifications\n",
    "from IPython.display import clear_output #so we can iteratively update the output without filling the screen\n",
    "from collections import deque #fast queue implementation\n",
    "from pprint import pprint\n",
    "import matplotlib.pyplot as plt\n",
    "import time\n",
    "import environment #custom module\n",
    "import markov_decision_process #custom module\n",
    "import progress_bar #custom module\n",
    "reload(environment)\n",
    "reload(markov_decision_process)\n",
    "reload(progress_bar)\n",
    "\n",
    "#Step 1: Set up the environment such that we can view it, modify it, determine rewards\n",
    "env = environment.Environment()\n",
    "print(\"This is what our environment looks like. The Agent 'A' needs to learn to seek out the food/reward 'R'.\")\n",
    "env.render()"
   ]
  },
  {
   "cell_type": "code",
   "execution_count": 2,
   "metadata": {},
   "outputs": [
    {
     "name": "stdout",
     "output_type": "stream",
     "text": [
      "----------\n",
      "|R       |  \n",
      "|        |  \n",
      "|        |  \n",
      "|        |  \n",
      "|        |  \n",
      "|        |  \n",
      "|  A     |  \n",
      "|        |  \n",
      "----------\n"
     ]
    }
   ],
   "source": [
    "#Step 2: Initialize trainable MDP\n",
    "mdp = markov_decision_process.MarkovDecisionProcess()\n",
    "mdp.set_possible_actions(env.agent.get_possible_movement_directions())\n",
    "\n",
    "#Define the observe->action step functionality we use during training\n",
    "def train_step(env, mdp, epsilon=0.5):\n",
    "    #Observe the environment (get the current state).\n",
    "    state = env.get_state_vector(as_string=True) #String is easier for our MDP class to store\n",
    "    \n",
    "    #Given the state, select an action.\n",
    "    action = mdp.get_predicted_action(state, epsilon)\n",
    "    env.agent.move(action)\n",
    "    \n",
    "    #Determine if we got a reward. \n",
    "    reward = 0\n",
    "    if env.has_agent_food_collision():\n",
    "        reward = 1\n",
    "        env.reset_food()\n",
    "        \n",
    "    return state, action, reward #This will be used by the outer training loop to encourage rewarding actions\n",
    "\n",
    "#Observe that prior to training the MDP, our agent moves around essentially randomly\n",
    "for i in range(0,10):\n",
    "    train_step(env, mdp)\n",
    "    clear_output()\n",
    "    env.render()\n",
    "    time.sleep(0.5)"
   ]
  },
  {
   "cell_type": "code",
   "execution_count": 3,
   "metadata": {},
   "outputs": [
    {
     "name": "stdout",
     "output_type": "stream",
     "text": [
      "Progress: [####################] 100.0%\n"
     ]
    },
    {
     "data": {
      "image/png": "[encoded data removed]",
      "text/plain": [
       "<Figure size 432x288 with 1 Axes>"
      ]
     },
     "metadata": {
      "needs_background": "light"
     },
     "output_type": "display_data"
    }
   ],
   "source": [
    "#Step 3: Run MDP training algorithm on the environment from step 1. Observe reward/time curve.\n",
    "training_steps = 100000\n",
    "initial_epsilon = 1\n",
    "epsilon = initial_epsilon \n",
    "anneal_epsilon = True #do we decrease epsilon over time?\n",
    "max_history_length = 10 #how many past actions do we want to encourage?\n",
    "history = deque([])\n",
    "progress = progress_bar.ProgressBar(total_elements=training_steps)\n",
    "reward_trends = []\n",
    "reward_trend_interval = 1000\n",
    "cumulative_reward_trend = 0\n",
    "\n",
    "#This is the main training loop.\n",
    "for i in range(0, training_steps):\n",
    "    state, action, reward = train_step(env, mdp, epsilon)\n",
    "    history.append({\"state\": state, \"action\": action})\n",
    "    while len(history) > max_history_length:\n",
    "        history.popleft()\n",
    "        \n",
    "    if reward > 0:\n",
    "        for sa in history:\n",
    "            mdp.encourage(sa[\"state\"], sa[\"action\"])\n",
    "        cumulative_reward_trend += reward\n",
    "        \n",
    "    #We just \"turn down\" epsilon by a linear interpolation from initial_epsilon to 0.\n",
    "    if anneal_epsilon:\n",
    "        epsilon_lerp = initial_epsilon / training_steps\n",
    "        epsilon = epsilon - epsilon_lerp\n",
    "        if epsilon < 0:\n",
    "            epsilon = 0 #might happen due to floating point error stacking up?\n",
    "            \n",
    "    if i % reward_trend_interval == 0:\n",
    "        reward_trends.append(cumulative_reward_trend / reward_trend_interval)\n",
    "        cumulative_reward_trend = 0\n",
    "        progress.update(i).draw()\n",
    "            \n",
    "progress.update(training_steps).draw()\n",
    "            \n",
    "plt.plot(range(len(reward_trends)), reward_trends)\n",
    "plt.ylabel(\"Reward per 1000 training steps\")\n",
    "plt.xlabel(\"Training step (divided by 1000)\")\n",
    "plt.show()"
   ]
  },
  {
   "cell_type": "code",
   "execution_count": 4,
   "metadata": {},
   "outputs": [
    {
     "name": "stdout",
     "output_type": "stream",
     "text": [
      "{'00000001': {0: 812, 1: 708, 2: 10324, 3: 724},\n",
      " '00000010': {0: 520, 1: 940, 2: 7322, 3: 550},\n",
      " '00000100': {0: 680, 1: 10341, 2: 724, 3: 763},\n",
      " '00001000': {0: 521, 1: 7129, 2: 514, 3: 844},\n",
      " '00010000': {0: 726, 1: 817, 2: 711, 3: 10227},\n",
      " '00100000': {0: 896, 1: 559, 2: 498, 3: 7116},\n",
      " '01000000': {0: 10173, 1: 673, 2: 751, 3: 802},\n",
      " '10000000': {0: 7486, 1: 491, 2: 889, 3: 579}}\n"
     ]
    }
   ],
   "source": [
    "#What does the MDP internal state->action pairs look like:\n",
    "pprint(mdp.state_actions)"
   ]
  },
  {
   "cell_type": "code",
   "execution_count": 5,
   "metadata": {},
   "outputs": [
    {
     "name": "stdout",
     "output_type": "stream",
     "text": [
      "----------\n",
      "|        |  \n",
      "|    R A |  \n",
      "|        |  \n",
      "|        |  \n",
      "|        |  \n",
      "|        |  \n",
      "|        |  \n",
      "|        |  \n",
      "----------\n"
     ]
    }
   ],
   "source": [
    "#Observe our agent after training for a while. Does it appear to have learned anything?\n",
    "for i in range(0,50):\n",
    "    train_step(env, mdp, epsilon=0)\n",
    "    clear_output()\n",
    "    env.render()\n",
    "    time.sleep(0.5)"
   ]
  },
  {
   "cell_type": "markdown",
   "metadata": {},
   "source": [
    "Success! What's next?\n",
    "--------------------------------\n",
    "\n",
    "Huzzah! Our Markov Decision Process was trained (unless your run was exceptionially unlucky) and can navigate the environment, collecting reward with ease. Where can we go from here?\n",
    "\n",
    "The logical next step given my goals is to attempt to model the Markov Decision Process with a Neural Network. It would be great if we could just drop in a Neural Network where the MDP was an train it with exactly the same process. Will that work? I'm thinking it should (with some minor tweaks) since neural networks are effectively arbitrary function approximators. Thus, it should be able to learn a simple mapping like the MDP. Let's find out!"
   ]
  },
  {
   "cell_type": "code",
   "execution_count": 27,
   "metadata": {},
   "outputs": [
    {
     "name": "stdout",
     "output_type": "stream",
     "text": [
      "Number of trainable parameters in Neural MDP:  756\n"
     ]
    }
   ],
   "source": [
    "#If you do not already have PyTorch, you can download & install it from instructions here:\n",
    "#https://pytorch.org/get-started/locally/\n",
    "import torch\n",
    "import torch.nn as nn\n",
    "import torch.optim as optim\n",
    "\n",
    "#This class allows us to quickly and easily build a generic feedforward neural network\n",
    "#We can make it behave like the MDP by adding the same functions we gave the MDP class\n",
    "class NeuralNet(nn.Module):\n",
    "    def __init__(self, input_size, hidden_size, output_size, activation_function = torch.sigmoid, num_layers = 1):\n",
    "        super(NeuralNet, self).__init__()\n",
    "        self.activation_function = activation_function\n",
    "        self.input_size = input_size\n",
    "        self.output_size = output_size\n",
    "        self.hidden_size = hidden_size\n",
    "        self.num_layers = num_layers\n",
    "        self.layers = nn.ModuleList()\n",
    "        \n",
    "        if self.num_layers < 1:\n",
    "            self.num_layers = 1\n",
    "            print(\"Zero hidden layers not allowed, defaulted to one.\")\n",
    "\n",
    "        self.layers.append(nn.Linear(self.input_size, self.hidden_size))\n",
    "        for i in range(0, self.num_layers):\n",
    "            self.layers.append(nn.Linear(self.hidden_size, self.hidden_size))\n",
    "        self.layers.append(nn.Linear(self.hidden_size, self.output_size))\n",
    "        \n",
    "    def forward(self, x):\n",
    "        for layer in self.layers:\n",
    "            x = self.activation_function(layer(x))\n",
    "        return x\n",
    "\n",
    "\n",
    "input_size = len(env.get_state_vector())\n",
    "hidden_size = input_size * 2\n",
    "output_size = len(env.agent.get_possible_movement_directions())\n",
    "neural_mdp = NeuralNet(input_size, hidden_size, output_size, num_layers = 2) #maybe we'll play with the other parameters later\n",
    "\n",
    "#how many parameters to train?\n",
    "pytorch_total_params = sum(p.numel() for p in neural_mdp.parameters() if p.requires_grad)\n",
    "print(\"Number of trainable parameters in Neural MDP: \", pytorch_total_params)"
   ]
  },
  {
   "cell_type": "code",
   "execution_count": 7,
   "metadata": {},
   "outputs": [
    {
     "name": "stdout",
     "output_type": "stream",
     "text": [
      "----------\n",
      "|        |  \n",
      "|    R  A|  \n",
      "|        |  \n",
      "|        |  \n",
      "|        |  \n",
      "|        |  \n",
      "|        |  \n",
      "|        |  \n",
      "----------\n"
     ]
    }
   ],
   "source": [
    "import random\n",
    "\n",
    "#Takes an integer \"target\" in the range [0, num_classes] and returns the one-hot \n",
    "#encoding of that target as a tensor of length num_classes where the value at index\n",
    "#target is 1.0 and all other values are 0.\n",
    "def one_hot(target, num_classes):\n",
    "    one_hot = torch.zeros(num_classes, dtype=torch.float32)\n",
    "    one_hot[target] = 1.0\n",
    "    return one_hot\n",
    "\n",
    "#Define the observe->action step functionality we use during training\n",
    "def train_step_nn(env, neural_net, epsilon=0.5):\n",
    "    #Observe the environment (get the current state).\n",
    "    state = torch.tensor(env.get_state_vector(as_string=False), dtype=torch.float32)\n",
    "    \n",
    "    #Given the state, choose an action. Either from the network, or randomly according to epsilon.\n",
    "    action_predicted = neural_net(state) #We need to get an output from the network either way\n",
    "    num_possible_directions = len(env.agent.get_possible_movement_directions())\n",
    "    choice = random.random()\n",
    "    if choice < epsilon:\n",
    "        action_taken = one_hot(random.randint(0, num_possible_directions-1), num_possible_directions)\n",
    "    else:\n",
    "        action_taken = one_hot(torch.argmax(action_predicted), action_predicted.shape[0]) \n",
    "        \n",
    "    env.agent.move(torch.argmax(action_taken).item())\n",
    "    \n",
    "    #Determine if we got a reward. \n",
    "    reward = 0\n",
    "    if env.has_agent_food_collision():\n",
    "        reward = 1\n",
    "        env.reset_food()\n",
    "        \n",
    "    return state, action_predicted, action_taken, reward #This will be used by the outer training loop to encourage rewarding actions\n",
    "\n",
    "#How does the agent move around prior to training the new NN?\n",
    "#Clearly not the way we want it to!\n",
    "#The NN's actions are deterministic, we need to add some randomness like the MDP had for training to work!\n",
    "for i in range(0,10):\n",
    "    train_step_nn(env, neural_mdp, epsilon=0)\n",
    "    clear_output()\n",
    "    env.render()\n",
    "    time.sleep(0.5)"
   ]
  },
  {
   "cell_type": "code",
   "execution_count": 28,
   "metadata": {},
   "outputs": [
    {
     "name": "stdout",
     "output_type": "stream",
     "text": [
      "Progress: [####################] 100.0%\n"
     ]
    },
    {
     "data": {
      "image/png": "[encoded data removed]",
      "text/plain": [
       "<Figure size 432x288 with 1 Axes>"
      ]
     },
     "metadata": {
      "needs_background": "light"
     },
     "output_type": "display_data"
    },
    {
     "data": {
      "image/png": "[encoded data removed]",
      "text/plain": [
       "<Figure size 432x288 with 1 Axes>"
      ]
     },
     "metadata": {
      "needs_background": "light"
     },
     "output_type": "display_data"
    }
   ],
   "source": [
    "#So let's train the neural network using essentially the same algorithm as before\n",
    "training_steps = 100000\n",
    "initial_epsilon = 1\n",
    "epsilon = initial_epsilon \n",
    "anneal_epsilon = True #do we decrease epsilon over time?\n",
    "max_history_length = 10 #how many past actions do we want to encourage?\n",
    "history = deque([])\n",
    "progress = progress_bar.ProgressBar(total_elements=training_steps)\n",
    "reward_trends = []\n",
    "loss_trends = []\n",
    "trend_interval = 1000\n",
    "cumulative_reward_trend = 0\n",
    "cumulative_loss_trend = 0\n",
    "\n",
    "#nn specific setup\n",
    "criteria = nn.BCELoss()\n",
    "optimizer = optim.SGD(neural_mdp.parameters(), lr = 0.05, momentum = 0)\n",
    "\n",
    "#This is the main training loop.\n",
    "for i in range(0, training_steps):\n",
    "    state, action_predicted, action_taken, reward = train_step_nn(env, neural_mdp, epsilon)\n",
    "    history.append({\"state\": state, \"action_predicted\": action_predicted, \"action_taken\": action_taken, \"reward\": reward})\n",
    "    while len(history) > max_history_length:\n",
    "        history.popleft()\n",
    "        \n",
    "    loss_sum = 0\n",
    "    if reward > 0: #Only if we got a reward do we backpropogate and adjust any network weights\n",
    "        for h in history:\n",
    "            loss_immediate = criteria(h[\"action_predicted\"], h[\"action_taken\"])\n",
    "            loss_immediate.backward(retain_graph=True)\n",
    "            loss_sum += loss_immediate\n",
    "            optimizer.step()\n",
    "        \n",
    "            #loss_sum += criteria(h[\"action_predicted\"], h[\"action_taken\"])\n",
    "        #loss_sum.backward(retain_graph=True)\n",
    "        #optimizer.step()\n",
    "            \n",
    "        cumulative_loss_trend += loss_sum.item()\n",
    "        cumulative_reward_trend += reward\n",
    "        \n",
    "    #We just \"turn down\" epsilon by a linear interpolation from initial_epsilon to 0.\n",
    "    if anneal_epsilon:\n",
    "        epsilon_lerp = initial_epsilon / training_steps\n",
    "        epsilon = epsilon - epsilon_lerp\n",
    "        if epsilon < 0:\n",
    "            epsilon = 0 #might happen due to floating point error stacking up?\n",
    "            \n",
    "    if i % trend_interval == 0:\n",
    "        reward_trends.append(cumulative_reward_trend / trend_interval)\n",
    "        cumulative_reward_trend = 0\n",
    "        loss_trends.append(cumulative_loss_trend / trend_interval)\n",
    "        cumulative_loss_trend = 0\n",
    "        progress.update(i).draw()\n",
    "            \n",
    "progress.update(training_steps).draw()\n",
    "            \n",
    "plt.plot(range(len(reward_trends)), reward_trends)\n",
    "plt.ylabel(\"Reward per 1000 training steps\")\n",
    "plt.xlabel(\"Training step (divided by 1000)\")\n",
    "plt.show()\n",
    "\n",
    "plt.plot(range(len(loss_trends)), loss_trends)\n",
    "plt.ylabel(\"Loss per 1000 training steps\")\n",
    "plt.xlabel(\"Training step (divided by 1000)\")\n",
    "plt.show()"
   ]
  },
  {
   "cell_type": "code",
   "execution_count": 9,
   "metadata": {},
   "outputs": [
    {
     "name": "stdout",
     "output_type": "stream",
     "text": [
      "----------\n",
      "|        |  \n",
      "|        |  \n",
      "|        |  \n",
      "|       A|  \n",
      "|        |  \n",
      "|        |  \n",
      "|        |  \n",
      "|R       |  \n",
      "----------\n"
     ]
    }
   ],
   "source": [
    "#Observe our agent after training for a while. Does it appear to have learned anything?\n",
    "for i in range(0,50):\n",
    "    train_step_nn(env, neural_mdp, epsilon=0)\n",
    "    clear_output()\n",
    "    env.render()\n",
    "    time.sleep(0.5)"
   ]
  },
  {
   "cell_type": "markdown",
   "metadata": {},
   "source": [
    "Well...\n",
    "-------\n",
    "\n",
    "This doesn't appear to be working. At least, it doesn't work using the exact same training methodology. Is there anything we can do to improve this?"
   ]
  },
  {
   "cell_type": "code",
   "execution_count": 29,
   "metadata": {},
   "outputs": [
    {
     "name": "stdout",
     "output_type": "stream",
     "text": [
      "In:  tensor([1., 0., 0., 0., 0., 0., 0., 0.])  out:  tensor([7.4871e-17, 9.9989e-01, 1.1741e-17, 2.3380e-06],\n",
      "       grad_fn=<SigmoidBackward>)\n",
      "In:  tensor([0., 1., 0., 0., 0., 0., 0., 0.])  out:  tensor([7.4871e-17, 9.9989e-01, 1.1741e-17, 2.3380e-06],\n",
      "       grad_fn=<SigmoidBackward>)\n",
      "In:  tensor([0., 0., 1., 0., 0., 0., 0., 0.])  out:  tensor([7.4871e-17, 9.9989e-01, 1.1741e-17, 2.3380e-06],\n",
      "       grad_fn=<SigmoidBackward>)\n",
      "In:  tensor([0., 0., 0., 1., 0., 0., 0., 0.])  out:  tensor([7.4871e-17, 9.9989e-01, 1.1741e-17, 2.3380e-06],\n",
      "       grad_fn=<SigmoidBackward>)\n",
      "In:  tensor([0., 0., 0., 0., 1., 0., 0., 0.])  out:  tensor([7.4871e-17, 9.9989e-01, 1.1741e-17, 2.3380e-06],\n",
      "       grad_fn=<SigmoidBackward>)\n",
      "In:  tensor([0., 0., 0., 0., 0., 1., 0., 0.])  out:  tensor([7.4871e-17, 9.9989e-01, 1.1741e-17, 2.3380e-06],\n",
      "       grad_fn=<SigmoidBackward>)\n",
      "In:  tensor([0., 0., 0., 0., 0., 0., 1., 0.])  out:  tensor([7.4871e-17, 9.9989e-01, 1.1741e-17, 2.3380e-06],\n",
      "       grad_fn=<SigmoidBackward>)\n",
      "In:  tensor([0., 0., 0., 0., 0., 0., 0., 1.])  out:  tensor([7.4871e-17, 9.9989e-01, 1.1741e-17, 2.3380e-06],\n",
      "       grad_fn=<SigmoidBackward>)\n"
     ]
    }
   ],
   "source": [
    "#What does the output look like for each possible state? Maybe we (humans) can learn something from it...\n",
    "def print_states_predictions(nnmdp):\n",
    "    for i in range(0,8):\n",
    "        inp = one_hot(i, 8)\n",
    "        output = nnmdp(inp) #get the activation for this state, which is a one-hot vector\n",
    "        print(\"In: \", inp, \" out: \", output)\n",
    "        \n",
    "print_states_predictions(neural_mdp)"
   ]
  },
  {
   "cell_type": "markdown",
   "metadata": {},
   "source": [
    "That's quite unusual, each of our states yields the same predicted action! Why is this happening?"
   ]
  },
  {
   "cell_type": "code",
   "execution_count": 11,
   "metadata": {},
   "outputs": [],
   "source": [
    "#What if we kept a history of all the sequences that led to a reward? A sort of... memory of good experiences?\n",
    "#This is basically what DeepMind did in their paper \"Playing Atari with Deep Reinforcement Learning\".\n",
    "#They're using a different algorithm (based on more typical Q-learning) but perhaps we just need to have more\n",
    "#good examples to train the network on? That should provide some insight in any case."
   ]
  },
  {
   "cell_type": "code",
   "execution_count": 40,
   "metadata": {},
   "outputs": [
    {
     "name": "stdout",
     "output_type": "stream",
     "text": [
      "Progress: [####################] 100.0%\n"
     ]
    },
    {
     "data": {
      "image/png": "[encoded data removed]",
      "text/plain": [
       "<Figure size 432x288 with 1 Axes>"
      ]
     },
     "metadata": {
      "needs_background": "light"
     },
     "output_type": "display_data"
    },
    {
     "data": {
      "image/png": "[encoded data removed]",
      "text/plain": [
       "<Figure size 432x288 with 1 Axes>"
      ]
     },
     "metadata": {
      "needs_background": "light"
     },
     "output_type": "display_data"
    }
   ],
   "source": [
    "#Reinitialize the Neural Network so that it has random weights and we aren't starting from a bad spot.\n",
    "neural_mdp = NeuralNet(input_size, hidden_size, output_size, num_layers = 2) #maybe we'll play with the other parameters later\n",
    "\n",
    "#Modify our algorithm to keep a buffer of past state->action sequences that ended in a reward.\n",
    "training_steps = 100000\n",
    "initial_epsilon = 1\n",
    "epsilon = initial_epsilon \n",
    "anneal_epsilon = True #do we decrease epsilon over time?\n",
    "max_history_length = 10 #how many past actions do we want to encourage?\n",
    "history = deque([])\n",
    "max_replay_memory = 99999999999999 #Keep this many \"positive\" sequences to reinforce from\n",
    "replay_memory = deque([])\n",
    "progress = progress_bar.ProgressBar(total_elements=training_steps)\n",
    "reward_trends = []\n",
    "loss_trends = []\n",
    "trend_interval = 1000\n",
    "cumulative_reward_trend = 0\n",
    "cumulative_loss_trend = 0\n",
    "\n",
    "#nn specific setup\n",
    "criteria = nn.BCELoss()\n",
    "optimizer = optim.SGD(neural_mdp.parameters(), lr = 0.1, momentum = 0)\n",
    "\n",
    "#This is the main training loop.\n",
    "for i in range(0, training_steps):\n",
    "    state, action_predicted, action_taken, reward = train_step_nn(env, neural_mdp, epsilon)\n",
    "    state_action_reward = {\"state\": state, \"action_predicted\": action_predicted, \"action_taken\": action_taken, \"reward\": reward} \n",
    "    history.append(state_action_reward)\n",
    "    while len(history) > max_history_length:\n",
    "        history.popleft()\n",
    "        \n",
    "    loss_sum = 0\n",
    "    if reward > 0:\n",
    "        replay_memory.append(history.copy()) #must make a copy becase otherwise altering history alters everything in here\n",
    "        while len(replay_memory) > max_replay_memory:\n",
    "            replay_memory.popleft()\n",
    "            \n",
    "    cumulative_reward_trend += reward\n",
    "            \n",
    "    #Here's where the actual training happens. We select a random successful sequence state->action transition\n",
    "    #from the replay memory at every step and backpropogate + update weights from it.\n",
    "    loss_sum = 0\n",
    "    if len(replay_memory) > 0:\n",
    "        for i in range\n",
    "        successful_sequence = replay_memory[random.randint(0, len(replay_memory) - 1)]\n",
    "        h = successful_sequence[random.randint(0, len(successful_sequence)-1)]\n",
    "        loss = criteria(h[\"action_predicted\"], h[\"action_taken\"])\n",
    "        loss.backward(retain_graph=True)\n",
    "        optimizer.step()\n",
    "        loss_sum += loss\n",
    "        cumulative_loss_trend += loss_sum.item()\n",
    "        \n",
    "    #We just \"turn down\" epsilon by a linear interpolation from initial_epsilon to 0.\n",
    "    if anneal_epsilon:\n",
    "        epsilon_lerp = initial_epsilon / training_steps\n",
    "        epsilon = epsilon - epsilon_lerp\n",
    "        if epsilon < 0:\n",
    "            epsilon = 0 #might happen due to floating point error stacking up?\n",
    "            \n",
    "    if i % trend_interval == 0:\n",
    "        reward_trends.append(cumulative_reward_trend / trend_interval)\n",
    "        cumulative_reward_trend = 0\n",
    "        loss_trends.append(cumulative_loss_trend / trend_interval)\n",
    "        cumulative_loss_trend = 0\n",
    "        progress.update(i).draw()\n",
    "            \n",
    "progress.update(training_steps).draw()\n",
    "            \n",
    "plt.plot(range(len(reward_trends)), reward_trends)\n",
    "plt.ylabel(\"Reward per 1000 training steps\")\n",
    "plt.xlabel(\"Training step (divided by 1000)\")\n",
    "plt.show()\n",
    "\n",
    "plt.plot(range(len(loss_trends)), loss_trends)\n",
    "plt.ylabel(\"Loss per 1000 training steps\")\n",
    "plt.xlabel(\"Training step (divided by 1000)\")\n",
    "plt.show()"
   ]
  },
  {
   "cell_type": "code",
   "execution_count": 39,
   "metadata": {},
   "outputs": [
    {
     "name": "stdout",
     "output_type": "stream",
     "text": [
      "In:  tensor([1., 0., 0., 0., 0., 0., 0., 0.])  out:  tensor([0., 0., 0., 0.], grad_fn=<SigmoidBackward>)\n",
      "In:  tensor([0., 1., 0., 0., 0., 0., 0., 0.])  out:  tensor([0., 0., 0., 0.], grad_fn=<SigmoidBackward>)\n",
      "In:  tensor([0., 0., 1., 0., 0., 0., 0., 0.])  out:  tensor([0., 0., 0., 0.], grad_fn=<SigmoidBackward>)\n",
      "In:  tensor([0., 0., 0., 1., 0., 0., 0., 0.])  out:  tensor([0., 0., 0., 0.], grad_fn=<SigmoidBackward>)\n",
      "In:  tensor([0., 0., 0., 0., 1., 0., 0., 0.])  out:  tensor([0., 0., 0., 0.], grad_fn=<SigmoidBackward>)\n",
      "In:  tensor([0., 0., 0., 0., 0., 1., 0., 0.])  out:  tensor([0., 0., 0., 0.], grad_fn=<SigmoidBackward>)\n",
      "In:  tensor([0., 0., 0., 0., 0., 0., 1., 0.])  out:  tensor([0., 0., 0., 0.], grad_fn=<SigmoidBackward>)\n",
      "In:  tensor([0., 0., 0., 0., 0., 0., 0., 1.])  out:  tensor([0., 0., 0., 0.], grad_fn=<SigmoidBackward>)\n"
     ]
    }
   ],
   "source": [
    "#What does the output look like for each possible state? Maybe we (humans) can learn something from it...\n",
    "def print_states_predictions(nnmdp):\n",
    "    for i in range(0,8):\n",
    "        inp = one_hot(i, 8)\n",
    "        output = nnmdp(inp) #get the activation for this state, which is a one-hot vector\n",
    "        print(\"In: \", inp, \" out: \", output)\n",
    "        \n",
    "print_states_predictions(neural_mdp)"
   ]
  },
  {
   "cell_type": "code",
   "execution_count": null,
   "metadata": {},
   "outputs": [],
   "source": []
  }
 ],
 "metadata": {
  "kernelspec": {
   "display_name": "Python 3",
   "language": "python",
   "name": "python3"
  },
  "language_info": {
   "codemirror_mode": {
    "name": "ipython",
    "version": 3
   },
   "file_extension": ".py",
   "mimetype": "text/x-python",
   "name": "python",
   "nbconvert_exporter": "python",
   "pygments_lexer": "ipython3",
   "version": "3.7.1"
  }
 },
 "nbformat": 4,
 "nbformat_minor": 2
}
