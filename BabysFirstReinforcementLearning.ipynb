{
 "cells": [
  {
   "cell_type": "markdown",
   "metadata": {},
   "source": [
    "Baby's First Reinforcement Learning\n",
    "----------------------------------------------------\n",
    "\n",
    "In this notebook we will begin to explore the fundamentals of reinforcement learning. From Wikipedia:\n",
    "\n",
    "**Reinforcement learning (RL)** is an area of machine learning concerned with how software agents ought to take actions in an environment so as to maximize some notion of cumulative reward. (see: https://en.wikipedia.org/wiki/Reinforcement_learning)\n",
    "\n",
    "Reinforcement learning has seen numerous successes in recent years. Groups such as OpenAI and\n",
    "Google Deepmind have successfully trained agents to play Atari games 1 with super-human skill. More recently,\n",
    "groups have trained agents to play considerably more complex games like Dota II. In each of these cases, the AI\n",
    "agent is trained by allowing it to explore the environment, and discovering on it’s own which sequences of\n",
    "actions lead to maximization of the chosen reward.\n",
    "\n",
    "We will begin by exploring an old idea known as a **Markov Decision Process** (MDP). MDP's can be applied in reinforcement learning contexts, but as we will see they have limitations. If time allows, we will also explore **Deep Reinforcement Learning** which is a collection of newer techniques designed to overcome the limitations of MDP's by using **Neural Networks**."
   ]
  },
  {
   "cell_type": "code",
   "execution_count": 1,
   "metadata": {},
   "outputs": [
    {
     "name": "stdout",
     "output_type": "stream",
     "text": [
      "This is what our environment looks like. The Agent 'A' needs to learn to seek out the food/reward 'R'.\n",
      "----------\n",
      "|R       |  \n",
      "|        |  \n",
      "|        |  \n",
      "|        |  \n",
      "|    A   |  \n",
      "|        |  \n",
      "|        |  \n",
      "|        |  \n",
      "----------\n"
     ]
    }
   ],
   "source": [
    "from importlib import reload #allow us to reload custom modules any time we like with modifications\n",
    "from IPython.display import clear_output #so we can iteratively update the output without filling the screen\n",
    "from collections import deque #fast queue implementation\n",
    "from pprint import pprint\n",
    "import matplotlib.pyplot as plt\n",
    "import time\n",
    "import environment #custom module\n",
    "import markov_decision_process #custom module\n",
    "import progress_bar #custom module\n",
    "reload(environment)\n",
    "reload(markov_decision_process)\n",
    "reload(progress_bar)\n",
    "\n",
    "#Step 1: Set up the environment such that we can view it, modify it, determine rewards\n",
    "env = environment.Environment()\n",
    "print(\"This is what our environment looks like. The Agent 'A' needs to learn to seek out the food/reward 'R'.\")\n",
    "env.render()"
   ]
  },
  {
   "cell_type": "code",
   "execution_count": 2,
   "metadata": {},
   "outputs": [
    {
     "name": "stdout",
     "output_type": "stream",
     "text": [
      "----------\n",
      "|R     A |  \n",
      "|        |  \n",
      "|        |  \n",
      "|        |  \n",
      "|        |  \n",
      "|        |  \n",
      "|        |  \n",
      "|        |  \n",
      "----------\n"
     ]
    }
   ],
   "source": [
    "#Step 2: Initialize trainable MDP\n",
    "mdp = markov_decision_process.MarkovDecisionProcess()\n",
    "mdp.set_possible_actions(env.agent.get_possible_movement_directions())\n",
    "\n",
    "#Define the observe->action step functionality we use during training\n",
    "def train_step(env, mdp, epsilon=0.5):\n",
    "    #Observe the environment (get the current state).\n",
    "    state = env.get_state_vector(as_string=True) #String is easier for our MDP class to store\n",
    "    \n",
    "    #Given the state, select an action.\n",
    "    action = mdp.get_predicted_action(state, epsilon)\n",
    "    env.agent.move(action)\n",
    "    \n",
    "    #Determine if we got a reward. \n",
    "    reward = 0\n",
    "    if env.has_agent_food_collision():\n",
    "        reward = 1\n",
    "        env.reset_food()\n",
    "        \n",
    "    return state, action, reward #This will be used by the outer training loop to encourage rewarding actions\n",
    "\n",
    "#Observe that prior to training the MDP, our agent moves around essentially randomly\n",
    "for i in range(0,10):\n",
    "    train_step(env, mdp)\n",
    "    clear_output()\n",
    "    env.render()\n",
    "    time.sleep(0.5)"
   ]
  },
  {
   "cell_type": "code",
   "execution_count": 3,
   "metadata": {},
   "outputs": [
    {
     "name": "stdout",
     "output_type": "stream",
     "text": [
      "Progress: [####################] 100.0%\n"
     ]
    },
    {
     "data": {
      "image/png": "[encoded data removed]",
      "text/plain": [
       "<Figure size 432x288 with 1 Axes>"
      ]
     },
     "metadata": {
      "needs_background": "light"
     },
     "output_type": "display_data"
    }
   ],
   "source": [
    "#Step 3: Run MDP training algorithm on the environment from step 1. Observe reward/time curve.\n",
    "training_steps = 100000\n",
    "initial_epsilon = 1\n",
    "epsilon = initial_epsilon \n",
    "anneal_epsilon = True #do we decrease epsilon over time?\n",
    "max_history_length = 10 #how many past actions do we want to encourage?\n",
    "history = deque([])\n",
    "progress = progress_bar.ProgressBar(total_elements=training_steps)\n",
    "reward_trends = []\n",
    "reward_trend_interval = 1000\n",
    "cumulative_reward_trend = 0\n",
    "\n",
    "#This is the main training loop.\n",
    "for i in range(0, training_steps):\n",
    "    state, action, reward = train_step(env, mdp, epsilon)\n",
    "    history.append({\"state\": state, \"action\": action})\n",
    "    while len(history) > max_history_length:\n",
    "        history.popleft()\n",
    "        \n",
    "    if reward > 0:\n",
    "        for sa in history:\n",
    "            mdp.encourage(sa[\"state\"], sa[\"action\"])\n",
    "        cumulative_reward_trend += reward\n",
    "        \n",
    "    #We just \"turn down\" epsilon by a linear interpolation from initial_epsilon to 0.\n",
    "    if anneal_epsilon:\n",
    "        epsilon_lerp = initial_epsilon / training_steps\n",
    "        epsilon = epsilon - epsilon_lerp\n",
    "        if epsilon < 0:\n",
    "            epsilon = 0 #might happen due to floating point error stacking up?\n",
    "            \n",
    "    if i % reward_trend_interval == 0:\n",
    "        reward_trends.append(cumulative_reward_trend / reward_trend_interval)\n",
    "        cumulative_reward_trend = 0\n",
    "        progress.update(i).draw()\n",
    "            \n",
    "progress.update(training_steps).draw()\n",
    "            \n",
    "plt.plot(range(len(reward_trends)), reward_trends)\n",
    "plt.ylabel(\"Reward per 1000 training steps\")\n",
    "plt.xlabel(\"Training step (divided by 1000)\")\n",
    "plt.show()"
   ]
  },
  {
   "cell_type": "code",
   "execution_count": 4,
   "metadata": {},
   "outputs": [
    {
     "name": "stdout",
     "output_type": "stream",
     "text": [
      "{'00000001': {0: 1404, 1: 1407, 2: 19296, 3: 1261},\n",
      " '00000010': {0: 566, 1: 7822, 2: 1047, 3: 631},\n",
      " '00000100': {0: 669, 1: 10022, 2: 723, 3: 767},\n",
      " '00001000': {0: 459, 1: 846, 2: 483, 3: 7004},\n",
      " '00010000': {0: 701, 1: 662, 2: 627, 3: 9627},\n",
      " '00100000': {0: 6199, 1: 414, 2: 415, 3: 719},\n",
      " '01000000': {0: 2456, 1: 176, 2: 235, 3: 229},\n",
      " '10000000': {0: 7033, 1: 486, 2: 838, 3: 436}}\n"
     ]
    }
   ],
   "source": [
    "#What do the MDP internal state->action pairs look like?\n",
    "pprint(mdp.state_actions)"
   ]
  },
  {
   "cell_type": "code",
   "execution_count": 5,
   "metadata": {},
   "outputs": [
    {
     "name": "stdout",
     "output_type": "stream",
     "text": [
      "----------\n",
      "|        |  \n",
      "|        |  \n",
      "|      A |  \n",
      "|        |  \n",
      "|        |  \n",
      "|        |  \n",
      "|       R|  \n",
      "|        |  \n",
      "----------\n"
     ]
    }
   ],
   "source": [
    "#Observe our agent after training for a while. Does it appear to have learned anything?\n",
    "for i in range(0,50):\n",
    "    train_step(env, mdp, epsilon=0)\n",
    "    clear_output()\n",
    "    env.render()\n",
    "    time.sleep(0.5)"
   ]
  },
  {
   "cell_type": "markdown",
   "metadata": {},
   "source": [
    "Success! What's next?\n",
    "--------------------------------\n",
    "\n",
    "Huzzah! Our Markov Decision Process was trained (unless your run was exceptionially unlucky) and can navigate the environment, collecting reward with ease. Where can we go from here?\n",
    "\n",
    "The logical next step given my goals is to attempt to model the Markov Decision Process with a Neural Network. It would be great if we could just drop in a Neural Network where the MDP was an train it with exactly the same process. Will that work? I'm thinking it should (with some minor tweaks) since neural networks are effectively arbitrary function approximators. Thus, it should be able to learn a simple mapping like the MDP. Let's find out!"
   ]
  },
  {
   "cell_type": "code",
   "execution_count": 6,
   "metadata": {},
   "outputs": [
    {
     "name": "stdout",
     "output_type": "stream",
     "text": [
      "Number of trainable parameters in Neural MDP:  1476\n"
     ]
    }
   ],
   "source": [
    "#If you do not already have PyTorch, you can download & install it from instructions here:\n",
    "#https://pytorch.org/get-started/locally/\n",
    "import torch\n",
    "import torch.nn as nn\n",
    "import torch.optim as optim\n",
    "\n",
    "#This class allows us to quickly and easily build a generic feedforward neural network\n",
    "#We can make it behave like the MDP by adding the same functions we gave the MDP class\n",
    "class NeuralNet(nn.Module):\n",
    "    def __init__(self, input_size, hidden_size, output_size, activation_function = torch.sigmoid, num_layers = 1):\n",
    "        super(NeuralNet, self).__init__()\n",
    "        self.activation_function = activation_function\n",
    "        self.input_size = input_size\n",
    "        self.output_size = output_size\n",
    "        self.hidden_size = hidden_size\n",
    "        self.num_layers = num_layers\n",
    "        self.layers = nn.ModuleList()\n",
    "        \n",
    "        if self.num_layers < 1:\n",
    "            self.num_layers = 1\n",
    "            print(\"Zero hidden layers not allowed, defaulted to one.\")\n",
    "\n",
    "        self.layers.append(nn.Linear(self.input_size, self.hidden_size))\n",
    "        for i in range(0, self.num_layers):\n",
    "            self.layers.append(nn.Linear(self.hidden_size, self.hidden_size))\n",
    "        self.layers.append(nn.Linear(self.hidden_size, self.output_size))\n",
    "        \n",
    "    def forward(self, x):\n",
    "        for layer in self.layers:\n",
    "            x = self.activation_function(layer(x))\n",
    "        return x\n",
    "\n",
    "\n",
    "input_size = len(env.get_state_vector())\n",
    "hidden_size = input_size * 4\n",
    "output_size = len(env.agent.get_possible_movement_directions())\n",
    "neural_mdp = NeuralNet(input_size, hidden_size, output_size, num_layers = 1) #maybe we'll play with the other parameters later\n",
    "\n",
    "#how many parameters to train?\n",
    "pytorch_total_params = sum(p.numel() for p in neural_mdp.parameters() if p.requires_grad)\n",
    "print(\"Number of trainable parameters in Neural MDP: \", pytorch_total_params)"
   ]
  },
  {
   "cell_type": "code",
   "execution_count": 7,
   "metadata": {},
   "outputs": [],
   "source": [
    "import random\n",
    "\n",
    "#Takes an integer \"target\" in the range [0, num_classes] and returns the one-hot \n",
    "#encoding of that target as a tensor of length num_classes where the value at index\n",
    "#target is 1.0 and all other values are 0.\n",
    "def one_hot(target, num_classes):\n",
    "    one_hot = torch.zeros(num_classes, dtype=torch.float32)\n",
    "    one_hot[target] = 1.0\n",
    "    return one_hot\n",
    "\n",
    "#Define the observe->action step functionality we use during training\n",
    "def train_step_nn(env, neural_net, epsilon=0.5):\n",
    "    #Observe the environment (get the current state).\n",
    "    state = torch.tensor(env.get_state_vector(as_string=False), dtype=torch.float32)\n",
    "    \n",
    "    #Given the state, choose an action. Either from the network, or randomly according to epsilon.\n",
    "    action_predicted = neural_net(state) #We need to get an output from the network either way\n",
    "    num_possible_directions = len(env.agent.get_possible_movement_directions())\n",
    "    choice = random.random()\n",
    "    if choice < epsilon:\n",
    "        action_taken = one_hot(random.randint(0, num_possible_directions-1), num_possible_directions)\n",
    "    else:\n",
    "        action_taken = one_hot(torch.argmax(action_predicted), action_predicted.shape[0]) \n",
    "        \n",
    "    env.agent.move(torch.argmax(action_taken).item())\n",
    "    \n",
    "    #Determine if we got a reward. \n",
    "    reward = 0\n",
    "    if env.has_agent_food_collision():\n",
    "        reward = 1\n",
    "        env.reset_food()\n",
    "        \n",
    "    return state, action_predicted, action_taken, reward #This will be used by the outer training loop to encourage rewarding actions\n",
    "\n"
   ]
  },
  {
   "cell_type": "markdown",
   "metadata": {},
   "source": [
    "Before training, let's take a look again at how the agent behaves. It should basically sit still or run in to a wall and stay there. This is because with **epsilon=0** we're giving full control of the agent to the Neural Network, the same network which hasn't learned anything yet! "
   ]
  },
  {
   "cell_type": "code",
   "execution_count": 8,
   "metadata": {},
   "outputs": [
    {
     "name": "stdout",
     "output_type": "stream",
     "text": [
      "----------\n",
      "|        |  \n",
      "|        |  \n",
      "|A       |  \n",
      "|        |  \n",
      "|        |  \n",
      "|        |  \n",
      "|       R|  \n",
      "|        |  \n",
      "----------\n"
     ]
    }
   ],
   "source": [
    "#How does the agent move around prior to training the new NN?\n",
    "#Clearly not the way we want it to!\n",
    "#The NN's actions are deterministic, we need to add some randomness like the MDP had for training to work!\n",
    "for i in range(0,10):\n",
    "    train_step_nn(env, neural_mdp, epsilon=0)\n",
    "    clear_output()\n",
    "    env.render()\n",
    "    time.sleep(0.5)"
   ]
  },
  {
   "cell_type": "code",
   "execution_count": 9,
   "metadata": {},
   "outputs": [
    {
     "name": "stdout",
     "output_type": "stream",
     "text": [
      "Progress: [####################] 100.0%\n"
     ]
    },
    {
     "data": {
      "image/png": "[encoded data removed]",
      "text/plain": [
       "<Figure size 432x288 with 1 Axes>"
      ]
     },
     "metadata": {
      "needs_background": "light"
     },
     "output_type": "display_data"
    },
    {
     "data": {
      "image/png": "[encoded data removed]",
      "text/plain": [
       "<Figure size 432x288 with 1 Axes>"
      ]
     },
     "metadata": {
      "needs_background": "light"
     },
     "output_type": "display_data"
    }
   ],
   "source": [
    "#So let's train the neural network using essentially the same algorithm as before\n",
    "training_steps = 100000\n",
    "initial_epsilon = 1\n",
    "epsilon = initial_epsilon \n",
    "anneal_epsilon = True #do we decrease epsilon over time?\n",
    "max_history_length = 10 #how many past actions do we want to encourage?\n",
    "history = deque([])\n",
    "progress = progress_bar.ProgressBar(total_elements=training_steps)\n",
    "reward_trends = []\n",
    "loss_trends = []\n",
    "trend_interval = 1000\n",
    "cumulative_reward_trend = 0\n",
    "cumulative_loss_trend = 0\n",
    "\n",
    "#nn specific setup\n",
    "criteria = nn.BCELoss()\n",
    "#optimizer = optim.SGD(neural_mdp.parameters(), lr = 0.01, momentum = 0.9)\n",
    "optimizer = optim.Adam(neural_mdp.parameters()) #Adam is a pretty \"safe\"/forgiving optimizer\n",
    "\n",
    "#This is the main training loop.\n",
    "for i in range(0, training_steps):\n",
    "    state, action_predicted, action_taken, reward = train_step_nn(env, neural_mdp, epsilon)\n",
    "    history.append({\"state\": state, \"action_predicted\": action_predicted, \"action_taken\": action_taken, \"reward\": reward})\n",
    "    while len(history) > max_history_length:\n",
    "        history.popleft()\n",
    "        \n",
    "    loss_sum = 0\n",
    "    if reward > 0: #Only if we got a reward do we backpropogate and adjust any network weights\n",
    "        for h in history:\n",
    "            optimizer.zero_grad()\n",
    "            loss_immediate = criteria(neural_mdp(h[\"state\"]), h[\"action_taken\"])\n",
    "            loss_immediate.backward(retain_graph=True)\n",
    "            loss_sum += loss_immediate\n",
    "            optimizer.step()\n",
    "            \n",
    "        cumulative_loss_trend += loss_sum.item()\n",
    "        cumulative_reward_trend += reward\n",
    "        \n",
    "    #We just \"turn down\" epsilon by a linear interpolation from initial_epsilon to 0.\n",
    "    if anneal_epsilon:\n",
    "        epsilon_lerp = initial_epsilon / training_steps\n",
    "        epsilon = epsilon - epsilon_lerp\n",
    "        if epsilon < 0:\n",
    "            epsilon = 0 #might happen due to floating point error stacking up?\n",
    "            \n",
    "    if i % trend_interval == 0:\n",
    "        reward_trends.append(cumulative_reward_trend / trend_interval)\n",
    "        cumulative_reward_trend = 0\n",
    "        loss_trends.append(cumulative_loss_trend / trend_interval)\n",
    "        cumulative_loss_trend = 0\n",
    "        progress.update(i).draw()\n",
    "            \n",
    "progress.update(training_steps).draw()\n",
    "            \n",
    "plt.plot(range(len(reward_trends)), reward_trends)\n",
    "plt.ylabel(\"Reward per 1000 training steps\")\n",
    "plt.xlabel(\"Training step (divided by 1000)\")\n",
    "plt.show()\n",
    "\n",
    "plt.plot(range(len(loss_trends)), loss_trends)\n",
    "plt.ylabel(\"Loss per 1000 training steps\")\n",
    "plt.xlabel(\"Training step (divided by 1000)\")\n",
    "plt.show()"
   ]
  },
  {
   "cell_type": "markdown",
   "metadata": {},
   "source": [
    "Well...\n",
    "-------\n",
    "\n",
    "By looking at the learning curves above, we can already tell that something isn't right.\n",
    "They don't look at all like the curve from the vanilla MDP implementation! What's going on?"
   ]
  },
  {
   "cell_type": "code",
   "execution_count": 10,
   "metadata": {},
   "outputs": [
    {
     "name": "stdout",
     "output_type": "stream",
     "text": [
      "----------\n",
      "|        |  \n",
      "|        |  \n",
      "|        |  \n",
      "|        |  \n",
      "|      R |  \n",
      "|A       |  \n",
      "|        |  \n",
      "|        |  \n",
      "----------\n"
     ]
    }
   ],
   "source": [
    "#Observe our agent after training for a while. Does it appear to have learned anything?\n",
    "for i in range(0,25):\n",
    "    train_step_nn(env, neural_mdp, epsilon=0)\n",
    "    clear_output()\n",
    "    env.render()\n",
    "    time.sleep(0.5)"
   ]
  },
  {
   "cell_type": "markdown",
   "metadata": {},
   "source": [
    "This definitely isn't working. At least, it doesn't work using the exact same training methodology. Is there anything we can do to improve this?\n",
    "\n",
    "First let's examine the network output and see if there might be any clues as to what's going on. "
   ]
  },
  {
   "cell_type": "code",
   "execution_count": 11,
   "metadata": {},
   "outputs": [
    {
     "name": "stdout",
     "output_type": "stream",
     "text": [
      "In:  tensor([1., 0., 0., 0., 0., 0., 0., 0.])  out:  tensor([0.2093, 0.2125, 0.3100, 0.2762], grad_fn=<SigmoidBackward>)\n",
      "In:  tensor([0., 1., 0., 0., 0., 0., 0., 0.])  out:  tensor([0.2085, 0.2135, 0.3079, 0.2768], grad_fn=<SigmoidBackward>)\n",
      "In:  tensor([0., 0., 1., 0., 0., 0., 0., 0.])  out:  tensor([0.2049, 0.2090, 0.3044, 0.2778], grad_fn=<SigmoidBackward>)\n",
      "In:  tensor([0., 0., 0., 1., 0., 0., 0., 0.])  out:  tensor([0.2062, 0.2110, 0.3046, 0.2785], grad_fn=<SigmoidBackward>)\n",
      "In:  tensor([0., 0., 0., 0., 1., 0., 0., 0.])  out:  tensor([0.2038, 0.2104, 0.3032, 0.2768], grad_fn=<SigmoidBackward>)\n",
      "In:  tensor([0., 0., 0., 0., 0., 1., 0., 0.])  out:  tensor([0.2081, 0.2146, 0.3075, 0.2780], grad_fn=<SigmoidBackward>)\n",
      "In:  tensor([0., 0., 0., 0., 0., 0., 1., 0.])  out:  tensor([0.2092, 0.2152, 0.3089, 0.2765], grad_fn=<SigmoidBackward>)\n",
      "In:  tensor([0., 0., 0., 0., 0., 0., 0., 1.])  out:  tensor([0.2080, 0.2140, 0.3113, 0.2787], grad_fn=<SigmoidBackward>)\n"
     ]
    }
   ],
   "source": [
    "#What does the output look like for each possible state? Maybe we (humans) can learn something from it...\n",
    "tensor_list = []\n",
    "def print_states_predictions(nnmdp):\n",
    "    for i in range(0,8):\n",
    "        inp = one_hot(i, 8)\n",
    "        output = nnmdp(inp) #get the activation for this state, which is a one-hot vector\n",
    "        tensor_list.append(output)\n",
    "        print(\"In: \", inp, \" out: \", output)\n",
    "        \n",
    "print_states_predictions(neural_mdp)\n",
    "if tensor_list[0] is tensor_list[1]:\n",
    "    print(\"Yeah, they're the same\")"
   ]
  },
  {
   "cell_type": "markdown",
   "metadata": {},
   "source": [
    "That's quite unusual, each of our states yields the same predicted action! Why is this happening? It's hard to say without diving in to a bunch of math, but we can clearly see that the outputs for each state are very similar and that's NOT what we want. \n",
    "\n",
    "As a sanity check, let's make sure the network is actually capable of learning an ideal policy. There are several, but I already know one so let's jut train it directly. \n"
   ]
  },
  {
   "cell_type": "code",
   "execution_count": 12,
   "metadata": {},
   "outputs": [
    {
     "name": "stdout",
     "output_type": "stream",
     "text": [
      "Progress: [####################] 99.9%\n"
     ]
    },
    {
     "data": {
      "image/png": "[encoded data removed]",
      "text/plain": [
       "<Figure size 432x288 with 1 Axes>"
      ]
     },
     "metadata": {
      "needs_background": "light"
     },
     "output_type": "display_data"
    },
    {
     "name": "stdout",
     "output_type": "stream",
     "text": [
      "tensor([9.9806e-01, 1.0886e-03, 2.9373e-04, 1.4020e-03], dtype=torch.float64,\n",
      "       grad_fn=<SigmoidBackward>)\n",
      "tensor([9.9798e-01, 1.1151e-03, 2.9057e-04, 1.4234e-03], dtype=torch.float64,\n",
      "       grad_fn=<SigmoidBackward>)\n",
      "tensor([9.9806e-01, 1.0871e-03, 2.9841e-04, 1.3987e-03], dtype=torch.float64,\n",
      "       grad_fn=<SigmoidBackward>)\n",
      "tensor([0.0031, 0.0020, 0.0079, 0.9871], dtype=torch.float64,\n",
      "       grad_fn=<SigmoidBackward>)\n",
      "tensor([8.4554e-04, 9.9760e-01, 1.5521e-03, 2.3028e-04], dtype=torch.float64,\n",
      "       grad_fn=<SigmoidBackward>)\n",
      "tensor([8.4717e-04, 9.9760e-01, 1.5693e-03, 2.2826e-04], dtype=torch.float64,\n",
      "       grad_fn=<SigmoidBackward>)\n",
      "tensor([8.6991e-04, 9.9759e-01, 1.4830e-03, 2.3582e-04], dtype=torch.float64,\n",
      "       grad_fn=<SigmoidBackward>)\n",
      "tensor([3.6107e-04, 5.8860e-03, 9.8516e-01, 8.0534e-03], dtype=torch.float64,\n",
      "       grad_fn=<SigmoidBackward>)\n"
     ]
    }
   ],
   "source": [
    "#Let's see if I can just brute force train the network, since the mapping is trivial\n",
    "#and it will rule out some setting being wrong or other stupid bugs.\n",
    "neural_mdp = NeuralNet(8, 32, 4, num_layers = 1).double()\n",
    "\n",
    "criteria = nn.BCELoss()\n",
    "#optimizer = optim.SGD(neural_mdp.parameters(), lr = 0.01, momentum = 0.9)\n",
    "optimizer = optim.Adam(neural_mdp.parameters())\n",
    "\n",
    "training_steps = 1000\n",
    "\n",
    "progress = progress_bar.ProgressBar(total_elements=training_steps)\n",
    "\n",
    "state_action_mapping = [\n",
    "    {\"state\": torch.tensor([1.0,0,0,0,0,0,0,0], dtype=torch.double), \"action\": torch.tensor([1.0,0,0,0], dtype=torch.double)},\n",
    "    {\"state\": torch.tensor([0,1.0,0,0,0,0,0,0], dtype=torch.double), \"action\": torch.tensor([1.0,0,0,0], dtype=torch.double)},\n",
    "    {\"state\": torch.tensor([0,0,1.0,0,0,0,0,0], dtype=torch.double), \"action\": torch.tensor([1.0,0,0,0], dtype=torch.double)},\n",
    "    {\"state\": torch.tensor([0,0,0,1.0,0,0,0,0], dtype=torch.double), \"action\": torch.tensor([0,0,0,1.0], dtype=torch.double)},\n",
    "    {\"state\": torch.tensor([0,0,0,0,1.0,0,0,0], dtype=torch.double), \"action\": torch.tensor([0,1.0,0,0], dtype=torch.double)},\n",
    "    {\"state\": torch.tensor([0,0,0,0,0,1.0,0,0], dtype=torch.double), \"action\": torch.tensor([0,1.0,0,0], dtype=torch.double)},\n",
    "    {\"state\": torch.tensor([0,0,0,0,0,0,1.0,0], dtype=torch.double), \"action\": torch.tensor([0,1.0,0,0], dtype=torch.double)},\n",
    "    {\"state\": torch.tensor([0,0,0,0,0,0,0,1.0], dtype=torch.double), \"action\": torch.tensor([0,0,1.0,0], dtype=torch.double)},\n",
    "]\n",
    "loss_log = []\n",
    "for i in range(0, training_steps):\n",
    "    avg_loss = 0\n",
    "    for k in range(0,8):\n",
    "        #TODO unroll this loop and make sure nothing funny happens\n",
    "        j = state_action_mapping[random.randint(0, len(state_action_mapping)-1)]\n",
    "        optimizer.zero_grad()\n",
    "        out = neural_mdp(j[\"state\"])\n",
    "        loss = criteria(out, j[\"action\"])\n",
    "        loss.backward()\n",
    "        avg_loss += loss.item()\n",
    "        optimizer.step()\n",
    "    avg_loss = avg_loss / len(j)\n",
    "    loss_log.append(avg_loss)\n",
    "    progress.update(i).draw()\n",
    "\n",
    "plt.plot(range(len(loss_log)), loss_log)\n",
    "plt.ylabel(\"Loss per 8 training steps\")\n",
    "plt.xlabel(\"Training step (divided by 8)\")\n",
    "plt.show()\n",
    "\n",
    "for s in state_action_mapping:\n",
    "    pprint(neural_mdp(s['state']).double())\n",
    "\n",
    "#Beautiful! So yes, the network is clearly *capable* of learning the mapping."
   ]
  },
  {
   "cell_type": "markdown",
   "metadata": {},
   "source": [
    "\n",
    "What if we kept a history of all the sequences that led to a reward? A sort of... memory of good experiences?\n",
    "This is basically what DeepMind did in their paper \"Playing Atari with Deep Reinforcement Learning\".\n",
    "They're using a different algorithm (based on more typical Q-learning) but perhaps we just need to have more\n",
    "good examples to train the network on? That should provide some insight in any case.\n",
    "\n",
    "**Forewarning**: This algorithm will take quite some time to run, possibly more than an hour if you're on a laptop or slow computer."
   ]
  },
  {
   "cell_type": "code",
   "execution_count": 13,
   "metadata": {},
   "outputs": [
    {
     "name": "stdout",
     "output_type": "stream",
     "text": [
      "Progress: [####################] 100.0%\n"
     ]
    },
    {
     "data": {
      "image/png": "[encoded data removed]",
      "text/plain": [
       "<Figure size 432x288 with 1 Axes>"
      ]
     },
     "metadata": {
      "needs_background": "light"
     },
     "output_type": "display_data"
    },
    {
     "data": {
      "image/png": "[encoded data removed]",
      "text/plain": [
       "<Figure size 432x288 with 1 Axes>"
      ]
     },
     "metadata": {
      "needs_background": "light"
     },
     "output_type": "display_data"
    }
   ],
   "source": [
    "#Reinitialize the Neural Network so that it has random weights and we aren't starting from a bad spot.\n",
    "neural_mdp = NeuralNet(input_size, hidden_size, output_size, num_layers = 1) #maybe we'll play with the other parameters later\n",
    "\n",
    "#Modify our algorithm to keep a buffer of past state->action sequences that ended in a reward.\n",
    "training_steps = 100000\n",
    "initial_epsilon = 1\n",
    "epsilon = initial_epsilon \n",
    "anneal_epsilon = True #do we decrease epsilon over time?\n",
    "max_history_length = 10 #how many past actions do we want to encourage?\n",
    "history = deque([])\n",
    "max_replay_memory = 1000 #Keep this many \"positive\" sequences to reinforce from\n",
    "replay_memory = deque([])\n",
    "progress = progress_bar.ProgressBar(total_elements=training_steps)\n",
    "reward_trends = []\n",
    "loss_trends = []\n",
    "trend_interval = 100\n",
    "cumulative_reward_trend = 0\n",
    "cumulative_loss_trend = 0\n",
    "\n",
    "#nn specific setup\n",
    "criteria = nn.BCELoss()\n",
    "optimizer = optim.Adam(neural_mdp.parameters()) #Adam is a pretty \"safe\"/forgiving optimizer\n",
    "\n",
    "#This is the main training loop.\n",
    "for i in range(0, training_steps):\n",
    "    state, action_predicted, action_taken, reward = train_step_nn(env, neural_mdp, epsilon)\n",
    "    state_action_reward = {\"state\": state, \"action_predicted\": action_predicted, \"action_taken\": action_taken, \"reward\": reward} \n",
    "    history.append(state_action_reward)\n",
    "    while len(history) > max_history_length:\n",
    "        history.popleft()\n",
    "        \n",
    "    loss_sum = 0\n",
    "    if reward > 0:\n",
    "        replay_memory.append(history.copy()) #must make a copy becase otherwise altering history alters everything in here\n",
    "        while len(replay_memory) > max_replay_memory:\n",
    "            replay_memory.popleft()\n",
    "            \n",
    "    cumulative_reward_trend += reward\n",
    "            \n",
    "    #Here's where the actual training happens. We select a random successful sequence state->action transition\n",
    "    #from the replay memory at every step and backpropogate + update weights from it.\n",
    "    loss_sum = 0\n",
    "    if len(replay_memory) > 0:\n",
    "        for j in range(0,100):\n",
    "            successful_sequence = replay_memory[random.randint(0, len(replay_memory) - 1)]\n",
    "            optimizer.zero_grad()\n",
    "            h = successful_sequence[random.randint(0, len(successful_sequence)-1)]\n",
    "            loss = criteria(neural_mdp(h[\"state\"]), h[\"action_taken\"])\n",
    "            loss_sum += loss\n",
    "            loss.backward(retain_graph=True)\n",
    "            optimizer.step()\n",
    "        cumulative_loss_trend += loss_sum.item()\n",
    "        \n",
    "    #We just \"turn down\" epsilon by a linear interpolation from initial_epsilon to 0.\n",
    "    if anneal_epsilon:\n",
    "        epsilon = initial_epsilon - (i / training_steps)\n",
    "            \n",
    "    if i % trend_interval == 0:\n",
    "        reward_trends.append(cumulative_reward_trend / trend_interval)\n",
    "        cumulative_reward_trend = 0\n",
    "        progress.update(i).draw()\n",
    "        loss_trends.append(cumulative_loss_trend / trend_interval)\n",
    "        print(\"Loss: \", cumulative_loss_trend)\n",
    "        cumulative_loss_trend = 0\n",
    "            \n",
    "progress.update(training_steps).draw()\n",
    "            \n",
    "plt.plot(range(len(reward_trends)), reward_trends)\n",
    "plt.ylabel(\"Reward per 1000 training steps\")\n",
    "plt.xlabel(\"Training step (divided by 1000)\")\n",
    "plt.show()\n",
    "\n",
    "plt.plot(range(len(loss_trends)), loss_trends)\n",
    "plt.ylabel(\"Loss per 1000 training steps\")\n",
    "plt.xlabel(\"Training step (divided by 1000)\")\n",
    "plt.show()"
   ]
  },
  {
   "cell_type": "code",
   "execution_count": 14,
   "metadata": {},
   "outputs": [
    {
     "name": "stdout",
     "output_type": "stream",
     "text": [
      "In:  tensor([1., 0., 0., 0., 0., 0., 0., 0.])  out:  tensor([0.9799, 0.0033, 0.0089, 0.0024], grad_fn=<SigmoidBackward>)\n",
      "In:  tensor([0., 1., 0., 0., 0., 0., 0., 0.])  out:  tensor([0.9808, 0.0039, 0.0103, 0.0028], grad_fn=<SigmoidBackward>)\n",
      "In:  tensor([0., 0., 1., 0., 0., 0., 0., 0.])  out:  tensor([0.0119, 0.0030, 0.0046, 0.9803], grad_fn=<SigmoidBackward>)\n",
      "In:  tensor([0., 0., 0., 1., 0., 0., 0., 0.])  out:  tensor([0.0053, 0.0082, 0.0349, 0.9731], grad_fn=<SigmoidBackward>)\n",
      "In:  tensor([0., 0., 0., 0., 1., 0., 0., 0.])  out:  tensor([0.0024, 0.0015, 0.0012, 0.9874], grad_fn=<SigmoidBackward>)\n",
      "In:  tensor([0., 0., 0., 0., 0., 1., 0., 0.])  out:  tensor([0.0080, 0.9854, 0.0041, 0.0024], grad_fn=<SigmoidBackward>)\n",
      "In:  tensor([0., 0., 0., 0., 0., 0., 1., 0.])  out:  tensor([1.1483e-03, 3.7157e-03, 9.8759e-01, 1.5264e-04],\n",
      "       grad_fn=<SigmoidBackward>)\n",
      "In:  tensor([0., 0., 0., 0., 0., 0., 0., 1.])  out:  tensor([0.0066, 0.0068, 0.9807, 0.0041], grad_fn=<SigmoidBackward>)\n"
     ]
    }
   ],
   "source": [
    "#What does the output look like for each possible state? Maybe we (humans) can learn something from it...\n",
    "def print_states_predictions(nnmdp):\n",
    "    for i in range(0,8):\n",
    "        inp = one_hot(i, 8)\n",
    "        output = nnmdp(inp) #get the activation for this state, which is a one-hot vector\n",
    "        print(\"In: \", inp, \" out: \", output)\n",
    "        \n",
    "print_states_predictions(neural_mdp)"
   ]
  },
  {
   "cell_type": "code",
   "execution_count": null,
   "metadata": {},
   "outputs": [],
   "source": [
    "#Observe our agent after training for a while. Does it appear to have learned anything?\n",
    "for i in range(0,25):\n",
    "    train_step_nn(env, neural_mdp, epsilon=0)\n",
    "    clear_output()\n",
    "    env.render()\n",
    "    time.sleep(0.5)"
   ]
  }
 ],
 "metadata": {
  "kernelspec": {
   "display_name": "Python 3",
   "language": "python",
   "name": "python3"
  },
  "language_info": {
   "codemirror_mode": {
    "name": "ipython",
    "version": 3
   },
   "file_extension": ".py",
   "mimetype": "text/x-python",
   "name": "python",
   "nbconvert_exporter": "python",
   "pygments_lexer": "ipython3",
   "version": "3.7.1"
  }
 },
 "nbformat": 4,
 "nbformat_minor": 2
}
